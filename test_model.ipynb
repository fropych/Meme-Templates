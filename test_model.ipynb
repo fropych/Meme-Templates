{
 "cells": [
  {
   "cell_type": "code",
   "execution_count": 8,
   "metadata": {},
   "outputs": [],
   "source": [
    "from collections import Counter"
   ]
  },
  {
   "cell_type": "code",
   "execution_count": 9,
   "metadata": {},
   "outputs": [
    {
     "data": {
      "text/plain": [
       "'dasda  dasdassdasddasdasda'"
      ]
     },
     "execution_count": 9,
     "metadata": {},
     "output_type": "execute_result"
    }
   ],
   "source": [
    "import re\n",
    "s = '!@dasda #$! dasdas@*(sdasd*________----dasda-sda'\n",
    "re.sub(r\"[^A-Za-z ]\", '', s)"
   ]
  },
  {
   "cell_type": "code",
   "execution_count": 13,
   "metadata": {},
   "outputs": [],
   "source": [
    "def checkInclusion(s1: str, s2: str) -> bool:\n",
    "        s1_c = Counter(s1)\n",
    "        cur_c = Counter(s2[:len(s1)])\n",
    "        print(cur_c)\n",
    "        if s1_c == cur_c:\n",
    "            return True\n",
    "        last = s2[0]\n",
    "        for i in range(len(s1):len(s2)):\n",
    "            cur_c[s2[last]]-= 1\n",
    "            if cur_c[s2[last]]== 0:\n",
    "                cur_c.pop(last)\n",
    "            if s in cur_c:\n",
    "                cur_c[s2[i]]+= 1\n",
    "            else:\n",
    "                cur_c[s2[i]] = 1\n",
    "            if cur_c == s1_c:\n",
    "                return True\n",
    "            last  += 1\n",
    "        return False"
   ]
  },
  {
   "cell_type": "code",
   "execution_count": null,
   "metadata": {},
   "outputs": [],
   "source": [
    "from functools import partial\n",
    "\n",
    "\n",
    "partial"
   ]
  },
  {
   "cell_type": "code",
   "execution_count": 14,
   "metadata": {},
   "outputs": [
    {
     "name": "stdout",
     "output_type": "stream",
     "text": [
      "Counter({'e': 1, 'i': 1})\n"
     ]
    },
    {
     "data": {
      "text/plain": [
       "False"
      ]
     },
     "execution_count": 14,
     "metadata": {},
     "output_type": "execute_result"
    }
   ],
   "source": [
    "s1 = \"ab\"\n",
    "s2 = \"eidbaooo\"\n",
    "checkInclusion(s1, s2)"
   ]
  }
 ],
 "metadata": {
  "kernelspec": {
   "display_name": "Python 3.8.13 ('env')",
   "language": "python",
   "name": "python3"
  },
  "language_info": {
   "codemirror_mode": {
    "name": "ipython",
    "version": 3
   },
   "file_extension": ".py",
   "mimetype": "text/x-python",
   "name": "python",
   "nbconvert_exporter": "python",
   "pygments_lexer": "ipython3",
   "version": "3.8.13"
  },
  "orig_nbformat": 4,
  "vscode": {
   "interpreter": {
    "hash": "15e93fb2db7d4a6d323223d261744629e12cfec9fa3b4d09690b8a3aa518d38e"
   }
  }
 },
 "nbformat": 4,
 "nbformat_minor": 2
}
